{
 "cells": [
  {
   "cell_type": "markdown",
   "metadata": {},
   "source": [
    "# Regressão linear multivariada"
   ]
  },
  {
   "cell_type": "code",
   "execution_count": 1,
   "metadata": {},
   "outputs": [
    {
     "data": {
      "text/html": [
       "<div>\n",
       "<style scoped>\n",
       "    .dataframe tbody tr th:only-of-type {\n",
       "        vertical-align: middle;\n",
       "    }\n",
       "\n",
       "    .dataframe tbody tr th {\n",
       "        vertical-align: top;\n",
       "    }\n",
       "\n",
       "    .dataframe thead th {\n",
       "        text-align: right;\n",
       "    }\n",
       "</style>\n",
       "<table border=\"1\" class=\"dataframe\">\n",
       "  <thead>\n",
       "    <tr style=\"text-align: right;\">\n",
       "      <th></th>\n",
       "      <th>Salário</th>\n",
       "      <th>Dívida</th>\n",
       "      <th>Crédito</th>\n",
       "    </tr>\n",
       "  </thead>\n",
       "  <tbody>\n",
       "    <tr>\n",
       "      <th>0</th>\n",
       "      <td>1500.0</td>\n",
       "      <td>0.0</td>\n",
       "      <td>16500.0</td>\n",
       "    </tr>\n",
       "    <tr>\n",
       "      <th>1</th>\n",
       "      <td>2000.0</td>\n",
       "      <td>4000.0</td>\n",
       "      <td>18000.0</td>\n",
       "    </tr>\n",
       "    <tr>\n",
       "      <th>2</th>\n",
       "      <td>3000.0</td>\n",
       "      <td>2000.0</td>\n",
       "      <td>28000.0</td>\n",
       "    </tr>\n",
       "    <tr>\n",
       "      <th>3</th>\n",
       "      <td>3300.0</td>\n",
       "      <td>1500.0</td>\n",
       "      <td>33000.0</td>\n",
       "    </tr>\n",
       "    <tr>\n",
       "      <th>4</th>\n",
       "      <td>4200.0</td>\n",
       "      <td>1000.0</td>\n",
       "      <td>49000.0</td>\n",
       "    </tr>\n",
       "    <tr>\n",
       "      <th>5</th>\n",
       "      <td>5500.0</td>\n",
       "      <td>1700.0</td>\n",
       "      <td>52000.0</td>\n",
       "    </tr>\n",
       "  </tbody>\n",
       "</table>\n",
       "</div>"
      ],
      "text/plain": [
       "   Salário  Dívida  Crédito\n",
       "0   1500.0     0.0  16500.0\n",
       "1   2000.0  4000.0  18000.0\n",
       "2   3000.0  2000.0  28000.0\n",
       "3   3300.0  1500.0  33000.0\n",
       "4   4200.0  1000.0  49000.0\n",
       "5   5500.0  1700.0  52000.0"
      ]
     },
     "metadata": {},
     "output_type": "display_data"
    }
   ],
   "source": [
    "import numpy as np\n",
    "import pandas as pd\n",
    "import matplotlib.pyplot as plt\n",
    "import warnings\n",
    "warnings.filterwarnings(\"ignore\")\n",
    "\n",
    "import linear_regression_models as lin\n",
    "import common as com\n",
    "\n",
    "data_table = pd.DataFrame({'Salário': [1500, 2000, 3000, 3300, 4200, 5500],\n",
    "                           'Dívida': [0, 4000, 2000, 1500, 1000, 1700],\n",
    "                           'Crédito': [16500, 18000, 28000, 33000, 49000, 52000]},\n",
    "                   dtype='float')\n",
    "\n",
    "display(data_table)\n",
    "x = data_table.drop('Crédito', axis=1).values\n",
    "y = data_table['Crédito'].values"
   ]
  },
  {
   "cell_type": "markdown",
   "metadata": {},
   "source": [
    "## Normalização dos dados"
   ]
  },
  {
   "cell_type": "code",
   "execution_count": 2,
   "metadata": {},
   "outputs": [],
   "source": [
    "normalize_data = True\n",
    "\n",
    "if normalize_data:\n",
    "    x_original = x.copy()\n",
    "    y_original = y.copy()\n",
    "    \n",
    "    x = com.normalize_data(x, ignore_first=False)['data']\n",
    "    y = com.normalize_data(y, ignore_first=False)['data']"
   ]
  },
  {
   "cell_type": "markdown",
   "metadata": {},
   "source": [
    "## Solução iterativa via gradiente descendente"
   ]
  },
  {
   "cell_type": "code",
   "execution_count": 3,
   "metadata": {},
   "outputs": [
    {
     "name": "stdout",
     "output_type": "stream",
     "text": [
      "MSE obtido via GD: 4.360e-02\n",
      "Parâmetros obtidos via GD:\n",
      "[ 5.57424477e-17  9.58859135e-01 -1.27400193e-01]\n"
     ]
    }
   ],
   "source": [
    "model_gd = lin.gd(x=x, y=y, num_epochs=100*x.shape[0], alpha=10**-2) \n",
    "w_gd = model_gd['w']    \n",
    "mse_history_gd = model_gd['mse_history']\n",
    "mse_gd = mse_history_gd[-1]\n",
    "\n",
    "print(\"MSE obtido via GD: %.3e\" % mse_gd)\n",
    "print(\"Parâmetros obtidos via GD:\\n%s\" % w_gd)"
   ]
  },
  {
   "cell_type": "code",
   "execution_count": 4,
   "metadata": {},
   "outputs": [
    {
     "data": {
      "image/png": "[encoded data removed]",
      "text/plain": [
       "<Figure size 576x432 with 1 Axes>"
      ]
     },
     "metadata": {
      "needs_background": "light"
     },
     "output_type": "display_data"
    }
   ],
   "source": [
    "com.plot_loss_path(mse_history_gd, 'MSE ao longo das iterações do GD')"
   ]
  },
  {
   "cell_type": "markdown",
   "metadata": {},
   "source": [
    "## Solução iterativa via gradiente descendente estocástico (LMS)"
   ]
  },
  {
   "cell_type": "code",
   "execution_count": 5,
   "metadata": {},
   "outputs": [
    {
     "name": "stdout",
     "output_type": "stream",
     "text": [
      "MSE obtido via LMS: 4.360e-02\n",
      "Parâmetros obtidos via LMS:\n",
      "[-3.69885107e-04  9.58477021e-01 -1.26704374e-01]\n"
     ]
    }
   ],
   "source": [
    "model_lms = lin.lms(x=x, y=y, num_epochs=100, alpha=10**-2) \n",
    "w_lms = model_lms['w']    \n",
    "mse_history_lms = model_lms['mse_history']\n",
    "mse_lms = mse_history_lms[-1]\n",
    "\n",
    "print(\"MSE obtido via LMS: %.3e\" % mse_lms)\n",
    "print(\"Parâmetros obtidos via LMS:\\n%s\" % w_lms)"
   ]
  },
  {
   "cell_type": "code",
   "execution_count": 6,
   "metadata": {},
   "outputs": [
    {
     "data": {
      "image/png": "[encoded data removed]",
      "text/plain": [
       "<Figure size 576x432 with 1 Axes>"
      ]
     },
     "metadata": {
      "needs_background": "light"
     },
     "output_type": "display_data"
    }
   ],
   "source": [
    "com.plot_loss_path(mse_history_lms, 'MSE ao longo das iterações do LMS')"
   ]
  },
  {
   "cell_type": "markdown",
   "metadata": {},
   "source": [
    "## Solução em batch via OLS"
   ]
  },
  {
   "cell_type": "code",
   "execution_count": 7,
   "metadata": {},
   "outputs": [
    {
     "name": "stdout",
     "output_type": "stream",
     "text": [
      "MSE obtido via OLS: 4.360e-02\n",
      "Parâmetros obtidos via OLS:\n",
      "[-2.08166817e-17  9.61237076e-01 -1.26764070e-01]\n"
     ]
    }
   ],
   "source": [
    "model_ols = lin.ols(x, y)\n",
    "w_ols = model_ols['w']\n",
    "mse_ols = model_ols['mse']\n",
    "\n",
    "print(\"MSE obtido via OLS: %.3e\" % mse_ols)\n",
    "print(\"Parâmetros obtidos via OLS:\\n%s\" % w_ols)"
   ]
  },
  {
   "cell_type": "code",
   "execution_count": 8,
   "metadata": {},
   "outputs": [
    {
     "name": "stdout",
     "output_type": "stream",
     "text": [
      "MSE obtido via GD: 4.360e-02\n",
      "Parâmetros obtidos via GD:\n",
      "[ 5.57424477e-17  9.58859135e-01 -1.27400193e-01]\n",
      "\n",
      "MSE obtido via LMS: 4.360e-02\n",
      "Parâmetros obtidos via LMS:\n",
      "[-3.69885107e-04  9.58477021e-01 -1.26704374e-01]\n",
      "\n",
      "MSE obtido via OLS: 4.360e-02\n",
      "Parâmetros obtidos via OLS:\n",
      "[-2.08166817e-17  9.61237076e-01 -1.26764070e-01]\n",
      "\n"
     ]
    }
   ],
   "source": [
    "print(\"MSE obtido via GD: %.3e\" % mse_gd)\n",
    "print(\"Parâmetros obtidos via GD:\\n%s\\n\" % w_gd)\n",
    "\n",
    "print(\"MSE obtido via LMS: %.3e\" % mse_lms)\n",
    "print(\"Parâmetros obtidos via LMS:\\n%s\\n\" % w_lms)\n",
    "\n",
    "print(\"MSE obtido via OLS: %.3e\" % mse_ols)\n",
    "print(\"Parâmetros obtidos via OLS:\\n%s\\n\" % w_ols)"
   ]
  }
 ],
 "metadata": {
  "kernelspec": {
   "display_name": "Python 3",
   "language": "python",
   "name": "python3"
  },
  "language_info": {
   "codemirror_mode": {
    "name": "ipython",
    "version": 3
   },
   "file_extension": ".py",
   "mimetype": "text/x-python",
   "name": "python",
   "nbconvert_exporter": "python",
   "pygments_lexer": "ipython3",
   "version": "3.6.8"
  }
 },
 "nbformat": 4,
 "nbformat_minor": 2
}
